{
 "cells": [
  {
   "cell_type": "markdown",
   "metadata": {},
   "source": [
    "# Introduction\n",
    "\n",
    "Using data about animals of various classes such as (Mammals, Reptiles, Amphibians etc.,) we perform hypothesis testing to check if certain species have more number of animals that require protection."
   ]
  },
  {
   "cell_type": "code",
   "execution_count": 2,
   "metadata": {},
   "outputs": [],
   "source": [
    "import matplotlib.pyplot as plt\n",
    "import pandas as pd\n",
    "from scipy.stats import chi2_contingency\n",
    "\n"
   ]
  },
  {
   "cell_type": "code",
   "execution_count": 98,
   "metadata": {},
   "outputs": [
    {
     "name": "stdout",
     "output_type": "stream",
     "text": [
      "  category                scientific_name  \\\n",
      "0   Mammal  Clethrionomys gapperi gapperi   \n",
      "1   Mammal                      Bos bison   \n",
      "2   Mammal                     Bos taurus   \n",
      "3   Mammal                     Ovis aries   \n",
      "4   Mammal                 Cervus elaphus   \n",
      "\n",
      "                                        common_names conservation_status  \n",
      "0                           Gapper's Red-Backed Vole                 NaN  \n",
      "1                              American Bison, Bison                 NaN  \n",
      "2  Aurochs, Aurochs, Domestic Cattle (Feral), Dom...                 NaN  \n",
      "3  Domestic Sheep, Mouflon, Red Sheep, Sheep (Feral)                 NaN  \n",
      "4                                      Wapiti Or Elk                 NaN  \n"
     ]
    }
   ],
   "source": [
    "species = pd.read_csv(\"species_info.csv\")\n",
    "print(species.head())"
   ]
  },
  {
   "cell_type": "code",
   "execution_count": 4,
   "metadata": {},
   "outputs": [
    {
     "data": {
      "text/plain": [
       "array(['Mammal', 'Bird', 'Reptile', 'Amphibian', 'Fish', 'Vascular Plant',\n",
       "       'Nonvascular Plant'], dtype=object)"
      ]
     },
     "execution_count": 4,
     "metadata": {},
     "output_type": "execute_result"
    }
   ],
   "source": [
    "species.category.unique()"
   ]
  },
  {
   "cell_type": "markdown",
   "metadata": {},
   "source": [
    "How many different species are in the `species` DataFrame?"
   ]
  },
  {
   "cell_type": "code",
   "execution_count": 5,
   "metadata": {},
   "outputs": [
    {
     "name": "stdout",
     "output_type": "stream",
     "text": [
      "There are 5541 unique species of animals\n"
     ]
    }
   ],
   "source": [
    "unique_no_species = species.scientific_name.nunique()\n",
    "print(\"There are {} unique species of animals\".format(unique_no_species))"
   ]
  },
  {
   "cell_type": "markdown",
   "metadata": {},
   "source": [
    "What are the different values of `category` in `species`?"
   ]
  },
  {
   "cell_type": "code",
   "execution_count": 7,
   "metadata": {},
   "outputs": [
    {
     "name": "stdout",
     "output_type": "stream",
     "text": [
      "Different categories of animals are: \n",
      "Mammal\n",
      "Bird\n",
      "Reptile\n",
      "Amphibian\n",
      "Fish\n",
      "Vascular Plant\n",
      "Nonvascular Plant\n"
     ]
    }
   ],
   "source": [
    "different_categories = species.category.unique()\n",
    "print(\"Different categories of animals are: \")\n",
    "for category in different_categories:\n",
    "    print(category)"
   ]
  },
  {
   "cell_type": "markdown",
   "metadata": {},
   "source": [
    "What are the different values of `conservation_status`?"
   ]
  },
  {
   "cell_type": "code",
   "execution_count": 8,
   "metadata": {},
   "outputs": [
    {
     "name": "stdout",
     "output_type": "stream",
     "text": [
      "Different conservation statuses:\n",
      "nan\n",
      "Species of Concern\n",
      "Endangered\n",
      "Threatened\n",
      "In Recovery\n"
     ]
    }
   ],
   "source": [
    "different_statuses = species.conservation_status.unique()\n",
    "print(\"Different conservation statuses:\")\n",
    "for status in different_statuses:\n",
    "    print(status)\n"
   ]
  },
  {
   "cell_type": "markdown",
   "metadata": {},
   "source": [
    "## Conservation Status frequency\n",
    "\n",
    "The column `conservation_status` has several possible values:\n",
    "- `Species of Concern`: declining or appear to be in need of conservation\n",
    "- `Threatened`: vulnerable to endangerment in the near future\n",
    "- `Endangered`: seriously at risk of extinction\n",
    "- `In Recovery`: formerly `Endangered`, but currnetly neither in danger of extinction throughout all or a significant portion of its range\n"
   ]
  },
  {
   "cell_type": "code",
   "execution_count": 99,
   "metadata": {},
   "outputs": [
    {
     "name": "stdout",
     "output_type": "stream",
     "text": [
      "Number of animals in each conservation status:\n",
      "conservation_status\n",
      "Endangered              16\n",
      "In Recovery              4\n",
      "No Intervention       5633\n",
      "Species of Concern     161\n",
      "Threatened              10\n",
      "Name: scientific_name, dtype: int64\n"
     ]
    }
   ],
   "source": [
    "species.conservation_status.fillna(\"No Intervention\", inplace=True)\n",
    "conservationCounts = species.groupby('conservation_status').scientific_name.count()\n",
    "print(\"Number of animals in each conservation status:\")\n",
    "print(conservationCounts)"
   ]
  },
  {
   "cell_type": "markdown",
   "metadata": {},
   "source": [
    "From the above table, we can see that \n",
    "<ul>\n",
    "    <li>5633 species do not need any kind of protection.</li>\n",
    "    <li>16 species are endangered.</li>\n",
    "    <li>4 species are in recovery.</li>\n",
    "    <li>161 species are in the danger zone.</li>\n",
    "    <li>10 species are threatened.</li>\n",
    "</ul>"
   ]
  },
  {
   "cell_type": "code",
   "execution_count": 32,
   "metadata": {},
   "outputs": [],
   "source": [
    "protection_counts = species.groupby('conservation_status').scientific_name.count().reset_index().sort_values('scientific_name')"
   ]
  },
  {
   "cell_type": "code",
   "execution_count": 33,
   "metadata": {},
   "outputs": [
    {
     "data": {
      "image/png": "[encoded data removed]",
      "text/plain": [
       "<Figure size 720x288 with 1 Axes>"
      ]
     },
     "metadata": {
      "needs_background": "light"
     },
     "output_type": "display_data"
    }
   ],
   "source": [
    "plt.figure(figsize=(10,4))\n",
    "ax = plt.subplot()\n",
    "plt.bar(range(len(protection_counts)), protection_counts['scientific_name'])\n",
    "ax.set_xticks(range(len(protection_counts)))\n",
    "ax.set_xticklabels(protection_counts['conservation_status'])\n",
    "plt.xlabel('Conservation Status by Species')\n",
    "plt.ylabel('Number of species')\n",
    "plt.title('Number of animals under each conservations status')\n",
    "plt.savefig(\"conservationCounts.png\")\n",
    "plt.show()"
   ]
  },
  {
   "cell_type": "markdown",
   "metadata": {},
   "source": [
    "# Are certain types of species more likely to be endangered?"
   ]
  },
  {
   "cell_type": "markdown",
   "metadata": {},
   "source": [
    "Let's create a new column in `species` called `is_protected`, which is `True` if `conservation_status` is not equal to `No Intervention`, and `False` otherwise."
   ]
  },
  {
   "cell_type": "code",
   "execution_count": 14,
   "metadata": {},
   "outputs": [
    {
     "name": "stdout",
     "output_type": "stream",
     "text": [
      "  category                scientific_name  \\\n",
      "0   Mammal  Clethrionomys gapperi gapperi   \n",
      "1   Mammal                      Bos bison   \n",
      "2   Mammal                     Bos taurus   \n",
      "3   Mammal                     Ovis aries   \n",
      "4   Mammal                 Cervus elaphus   \n",
      "\n",
      "                                        common_names conservation_status  \\\n",
      "0                           Gapper's Red-Backed Vole     No Intervention   \n",
      "1                              American Bison, Bison     No Intervention   \n",
      "2  Aurochs, Aurochs, Domestic Cattle (Feral), Dom...     No Intervention   \n",
      "3  Domestic Sheep, Mouflon, Red Sheep, Sheep (Feral)     No Intervention   \n",
      "4                                      Wapiti Or Elk     No Intervention   \n",
      "\n",
      "   is_protected  \n",
      "0         False  \n",
      "1         False  \n",
      "2         False  \n",
      "3         False  \n",
      "4         False  \n"
     ]
    }
   ],
   "source": [
    "species['is_protected'] = species.conservation_status.apply(lambda status: False if status == \"No Intervention\" else True)\n",
    "print(species.head())"
   ]
  },
  {
   "cell_type": "code",
   "execution_count": 49,
   "metadata": {},
   "outputs": [],
   "source": [
    "category_counts = species.groupby(['category', 'is_protected']).scientific_name.count().reset_index()\n",
    "category_pivot = category_counts.pivot(columns='is_protected',index=\"category\", values=\"scientific_name\")\n",
    "category_pivot.rename(columns={False:\"protection_not_needed\", True:\"protection_needed\"}, inplace=True)\n",
    "category_pivot['percent_protection_needed'] = category_pivot.apply(lambda row: \\\n",
    "                                                         float((row['protection_needed'])/(row['protection_needed']+row['protection_not_needed'])*100),axis=1)"
   ]
  },
  {
   "cell_type": "markdown",
   "metadata": {},
   "source": [
    "Examine `category_pivot`."
   ]
  },
  {
   "cell_type": "code",
   "execution_count": 51,
   "metadata": {},
   "outputs": [
    {
     "name": "stderr",
     "output_type": "stream",
     "text": [
      "/Users/command/anaconda3/lib/python3.6/site-packages/matplotlib/figure.py:98: MatplotlibDeprecationWarning: \n",
      "Adding an axes using the same arguments as a previous axes currently reuses the earlier instance.  In a future version, a new instance will always be created and returned.  Meanwhile, this warning can be suppressed, and the future behavior ensured, by passing a unique label to each axes instance.\n",
      "  \"Adding an axes using the same arguments as a previous axes \"\n"
     ]
    },
    {
     "data": {
      "image/png": "[encoded data removed]",
      "text/plain": [
       "<Figure size 720x432 with 1 Axes>"
      ]
     },
     "metadata": {
      "needs_background": "light"
     },
     "output_type": "display_data"
    }
   ],
   "source": [
    "plt.figure(figsize=(10,6))\n",
    "plt.bar(range(len(category_pivot)), category_pivot['percent_protection_needed'])\n",
    "ax = plt.subplot()\n",
    "labels=[\"Amphibian\",\"Bird\", \"Fish\", \"Mammal\", \"Nonvascular Plant\", \"Reptile\", \"Vascular Plant\"]\n",
    "ax.set_xticks(range(len(category_pivot)))\n",
    "ax.set_xticklabels(labels, rotation=25)\n",
    "plt.xlabel(\"Types Of Species\")\n",
    "plt.ylabel(\"Percentage of animals protected from extinction\")\n",
    "plt.title(\"Protected animals in each species type\")\n",
    "plt.savefig(\"protectedSpecies.png\")"
   ]
  },
  {
   "cell_type": "markdown",
   "metadata": {},
   "source": [
    "## Chi Square Test to test significance in protection requirements among animal classes"
   ]
  },
  {
   "cell_type": "markdown",
   "metadata": {},
   "source": [
    "A large portion of mammals seem to need protection from the bar chart. A chi-square test can be performed to see if the differences in portions of animals needing protection in each category is significant."
   ]
  },
  {
   "cell_type": "code",
   "execution_count": 91,
   "metadata": {},
   "outputs": [
    {
     "name": "stdout",
     "output_type": "stream",
     "text": [
      "         category_one       category_two        Pvalue\n",
      "0           Amphibian               Bird  1.758278e-01\n",
      "1           Amphibian               Fish  8.171118e-01\n",
      "2           Amphibian             Mammal  8.416929e-02\n",
      "3           Amphibian  Nonvascular Plant  1.965877e-03\n",
      "4           Amphibian            Reptile  7.813397e-01\n",
      "5           Amphibian     Vascular Plant  4.808330e-09\n",
      "6                Bird               Fish  7.897199e-02\n",
      "7                Bird             Mammal  4.459017e-01\n",
      "8                Bird  Nonvascular Plant  1.355140e-10\n",
      "9                Bird            Reptile  5.303197e-02\n",
      "10               Bird     Vascular Plant  9.296288e-84\n",
      "11               Fish             Mammal  3.114526e-02\n",
      "12               Fish  Nonvascular Plant  5.357944e-04\n",
      "13               Fish            Reptile  7.335180e-01\n",
      "14               Fish     Vascular Plant  3.930722e-13\n",
      "15             Mammal  Nonvascular Plant  1.681893e-11\n",
      "16             Mammal            Reptile  2.338465e-02\n",
      "17             Mammal     Vascular Plant  1.734911e-70\n",
      "18  Nonvascular Plant            Reptile  3.571938e-02\n",
      "19  Nonvascular Plant     Vascular Plant  5.931341e-01\n",
      "20            Reptile     Vascular Plant  9.772803e-05\n"
     ]
    }
   ],
   "source": [
    "categories = list(category_pivot.index.values)\n",
    "combinations = []\n",
    "chi_square_test = []\n",
    "for categoryOne in categories:\n",
    "    for categoryTwo in categories:\n",
    "        comb = [categoryOne, categoryTwo]\n",
    "        comb_inv = [categoryTwo, categoryOne]\n",
    "        if (categoryOne != categoryTwo) and (comb not in combinations) and (comb_inv not in combinations):\n",
    "            combinations.append(comb)\n",
    "            combinations.append(comb_inv)\n",
    "            test_details = []\n",
    "            contingency_table = []\n",
    "            cat_one_details = []\n",
    "            cat_two_details = []\n",
    "            cat_one_details.append(category_pivot.loc[categoryOne,\"protection_not_needed\"])\n",
    "            cat_one_details.append(category_pivot.loc[categoryOne,\"protection_needed\"])\n",
    "            contingency_table.append(cat_one_details)\n",
    "            cat_two_details.append(category_pivot.loc[categoryTwo,\"protection_not_needed\"])\n",
    "            cat_two_details.append(category_pivot.loc[categoryTwo,\"protection_needed\"])\n",
    "            contingency_table.append(cat_two_details)\n",
    "            test_details.append(categoryOne)\n",
    "            test_details.append(categoryTwo)\n",
    "            _, pvalue, _, _ = chi2_contingency(contingency_table)\n",
    "            test_details.append(pvalue)\n",
    "            chi_square_test.append(test_details)\n",
    "\n",
    "# print(chi_square_test)\n",
    "chi_test_results = pd.DataFrame(chi_square_test, columns=[\"category_one\", \"category_two\", \"Pvalue\"])\n",
    "print(chi_test_results)"
   ]
  },
  {
   "cell_type": "markdown",
   "metadata": {},
   "source": [
    "We calculated p value for all combinations of animal classes to determine which classes are significantly different in terms of requiring protection. The categories that are significantly different are"
   ]
  },
  {
   "cell_type": "code",
   "execution_count": 118,
   "metadata": {},
   "outputs": [
    {
     "name": "stdout",
     "output_type": "stream",
     "text": [
      "category_one          Amphibian          Bird          Fish        Mammal  \\\n",
      "category_two                                                                \n",
      "Mammal                      NaN           NaN  3.114526e-02           NaN   \n",
      "Nonvascular Plant  1.965877e-03  1.355140e-10  5.357944e-04  1.681893e-11   \n",
      "Reptile                     NaN           NaN           NaN  2.338465e-02   \n",
      "Vascular Plant     4.808330e-09  9.296288e-84  3.930722e-13  1.734911e-70   \n",
      "\n",
      "category_one       Nonvascular Plant   Reptile  \n",
      "category_two                                    \n",
      "Mammal                           NaN       NaN  \n",
      "Nonvascular Plant                NaN       NaN  \n",
      "Reptile                     0.035719       NaN  \n",
      "Vascular Plant                   NaN  0.000098  \n"
     ]
    }
   ],
   "source": [
    "significant_chi = chi_test_results.query(\"Pvalue <= 0.05\")\n",
    "sig_chi_pivot = significant_chi.pivot(columns=\"category_one\", index=\"category_two\", values=\"Pvalue\")\n",
    "print(sig_chi_pivot)"
   ]
  },
  {
   "cell_type": "code",
   "execution_count": 122,
   "metadata": {},
   "outputs": [
    {
     "data": {
      "text/plain": [
       "<matplotlib.axes._subplots.AxesSubplot at 0x1a258c8550>"
      ]
     },
     "execution_count": 122,
     "metadata": {},
     "output_type": "execute_result"
    },
    {
     "data": {
      "image/png": "[encoded data removed]",
      "text/plain": [
       "<Figure size 432x288 with 2 Axes>"
      ]
     },
     "metadata": {
      "needs_background": "light"
     },
     "output_type": "display_data"
    }
   ],
   "source": [
    "import seaborn as sb\n",
    "sb.heatmap(sig_chi_pivot, cmap=\"Blues_r\")"
   ]
  },
  {
   "cell_type": "markdown",
   "metadata": {},
   "source": [
    "We could see that protection required by mammals is significantly higher than fishes, reptiles, vascular plants and non vascular plants."
   ]
  },
  {
   "cell_type": "markdown",
   "metadata": {},
   "source": [
    "# Step 5"
   ]
  },
  {
   "cell_type": "code",
   "execution_count": 94,
   "metadata": {},
   "outputs": [
    {
     "name": "stdout",
     "output_type": "stream",
     "text": [
      "            scientific_name                            park_name  observations\n",
      "0        Vicia benghalensis  Great Smoky Mountains National Park            68\n",
      "1            Neovison vison  Great Smoky Mountains National Park            77\n",
      "2         Prunus subcordata               Yosemite National Park           138\n",
      "3      Abutilon theophrasti                  Bryce National Park            84\n",
      "4  Githopsis specularioides  Great Smoky Mountains National Park            85\n"
     ]
    }
   ],
   "source": [
    "observations = pd.read_csv('observations.csv')\n",
    "print(observations.head())"
   ]
  },
  {
   "cell_type": "markdown",
   "metadata": {},
   "source": [
    "Some scientists are studying the number of sheep sightings at different national parks.  There are several different scientific names for different types of sheep.  We'd like to know which rows of `species` are referring to sheep.  Notice that the following code will tell us whether or not a word occurs in a string:"
   ]
  },
  {
   "cell_type": "code",
   "execution_count": 95,
   "metadata": {},
   "outputs": [],
   "source": [
    "species['is_sheep'] = species.common_names.apply(lambda name: 'Sheep' in name)\n",
    "sheep_species = species[(species.is_sheep == True) & (species.category == \"Mammal\")]\n",
    "sheep_observations = pd.merge(sheep_species, observations)\n"
   ]
  },
  {
   "cell_type": "code",
   "execution_count": 96,
   "metadata": {},
   "outputs": [
    {
     "name": "stdout",
     "output_type": "stream",
     "text": [
      "  category  scientific_name  \\\n",
      "0   Mammal       Ovis aries   \n",
      "1   Mammal       Ovis aries   \n",
      "2   Mammal       Ovis aries   \n",
      "3   Mammal       Ovis aries   \n",
      "4   Mammal  Ovis canadensis   \n",
      "\n",
      "                                        common_names conservation_status  \\\n",
      "0  Domestic Sheep, Mouflon, Red Sheep, Sheep (Feral)     No Intervention   \n",
      "1  Domestic Sheep, Mouflon, Red Sheep, Sheep (Feral)     No Intervention   \n",
      "2  Domestic Sheep, Mouflon, Red Sheep, Sheep (Feral)     No Intervention   \n",
      "3  Domestic Sheep, Mouflon, Red Sheep, Sheep (Feral)     No Intervention   \n",
      "4                       Bighorn Sheep, Bighorn Sheep  Species of Concern   \n",
      "\n",
      "   is_protected  is_sheep                            park_name  observations  \n",
      "0         False      True               Yosemite National Park           126  \n",
      "1         False      True  Great Smoky Mountains National Park            76  \n",
      "2         False      True                  Bryce National Park           119  \n",
      "3         False      True            Yellowstone National Park           221  \n",
      "4          True      True            Yellowstone National Park           219  \n"
     ]
    }
   ],
   "source": [
    "print(sheep_observations.head(5))"
   ]
  },
  {
   "cell_type": "markdown",
   "metadata": {},
   "source": [
    "## Total Number of sheep observations made at each park\n",
    "\n",
    "This is the total number of sheep observed in each park over the past 7 days."
   ]
  },
  {
   "cell_type": "code",
   "execution_count": 114,
   "metadata": {},
   "outputs": [
    {
     "name": "stdout",
     "output_type": "stream",
     "text": [
      "                             park_name  observations\n",
      "0                  Bryce National Park           250\n",
      "1  Great Smoky Mountains National Park           149\n",
      "2            Yellowstone National Park           507\n",
      "3               Yosemite National Park           282\n"
     ]
    }
   ],
   "source": [
    "obs_by_park = sheep_observations.groupby('park_name').observations.sum().reset_index()\n",
    "print(obs_by_park)"
   ]
  },
  {
   "cell_type": "code",
   "execution_count": 115,
   "metadata": {},
   "outputs": [
    {
     "data": {
      "image/png": "[encoded data removed]",
      "text/plain": [
       "<Figure size 1152x432 with 1 Axes>"
      ]
     },
     "metadata": {
      "needs_background": "light"
     },
     "output_type": "display_data"
    }
   ],
   "source": [
    "plt.figure(figsize=(16, 6))\n",
    "ax = plt.subplot()\n",
    "plt.bar(range(len(obs_by_park)), obs_by_park['observations'])\n",
    "ax.set_xticks(range(len(obs_by_park)))\n",
    "ax.set_xticklabels(obs_by_park.park_name)\n",
    "plt.ylabel(\"Number of Observations\")\n",
    "plt.title(\"Observations of Sheep per Week\")\n",
    "plt.savefig(\"sheepInParks.png\")\n",
    "plt.show()"
   ]
  },
  {
   "cell_type": "code",
   "execution_count": null,
   "metadata": {},
   "outputs": [],
   "source": []
  }
 ],
 "metadata": {
  "kernelspec": {
   "display_name": "Python 3",
   "language": "python",
   "name": "python3"
  },
  "language_info": {
   "codemirror_mode": {
    "name": "ipython",
    "version": 3
   },
   "file_extension": ".py",
   "mimetype": "text/x-python",
   "name": "python",
   "nbconvert_exporter": "python",
   "pygments_lexer": "ipython3",
   "version": "3.6.8"
  }
 },
 "nbformat": 4,
 "nbformat_minor": 2
}
